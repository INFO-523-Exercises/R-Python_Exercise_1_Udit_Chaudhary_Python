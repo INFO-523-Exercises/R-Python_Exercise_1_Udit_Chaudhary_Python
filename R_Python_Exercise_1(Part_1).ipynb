{
  "nbformat": 4,
  "nbformat_minor": 0,
  "metadata": {
    "colab": {
      "provenance": []
    },
    "kernelspec": {
      "name": "python3",
      "display_name": "Python 3"
    },
    "language_info": {
      "name": "python"
    }
  },
  "cells": [
    {
      "cell_type": "markdown",
      "source": [
        "------------------------------------------------\n",
        "###Title: Excercise 1: Introduction to Python, Numpy and Pandas\n",
        "###Author: UDIT CHAUDAHRY\n",
        "###Date: 2023-09-08(YYYY_MM_DD)\n",
        "------------------------------------------------"
      ],
      "metadata": {
        "id": "QLND1zGB3h_O"
      }
    },
    {
      "cell_type": "markdown",
      "source": [
        "##**Introduction to Python**"
      ],
      "metadata": {
        "id": "InTcpmfBRaIZ"
      }
    },
    {
      "cell_type": "markdown",
      "source": [
        "###Elementary Data Types"
      ],
      "metadata": {
        "id": "ucF8XYVOR6rc"
      }
    },
    {
      "cell_type": "code",
      "execution_count": null,
      "metadata": {
        "colab": {
          "base_uri": "https://localhost:8080/"
        },
        "id": "uTQcsE3KQ0Pz",
        "outputId": "d73336ee-1fa4-429e-be25-a960ce9a9107"
      },
      "outputs": [
        {
          "output_type": "stream",
          "name": "stdout",
          "text": [
            "A =  3\n",
            "3 <class 'int'>\n",
            "B =  True\n",
            "3 <class 'bool'>\n",
            "C =  5.6\n",
            "3 <class 'float'>\n",
            "D =  Hi! Wellcome to Google Collab\n",
            "3 <class 'str'>\n"
          ]
        }
      ],
      "source": [
        "a = 3\n",
        "print(\"A = \",a)\n",
        "print(a, type(a))\n",
        "\n",
        "b = True\n",
        "print(\"B = \",b)\n",
        "print(a, type(b))\n",
        "\n",
        "c = 5.6\n",
        "print(\"C = \",c)\n",
        "print(a, type(c))\n",
        "\n",
        "d = \"Hi! Wellcome to Google Collab\"\n",
        "print(\"D = \",d)\n",
        "print(a, type(d))"
      ]
    },
    {
      "cell_type": "code",
      "source": [
        "#The arithmetic operations that can be used to manipulate integers and floating point numbers include the following.\n",
        "\n",
        "x = 2\n",
        "x1 = x + 3\n",
        "x2 = x * 2\n",
        "x += 5\n",
        "x3 = x\n",
        "x *= 2\n",
        "x4 = x\n",
        "x5 = x%5\n",
        "\n",
        "print(x,\",\",x1,\",\",x2,\",\",x3,\",\",x4,\",\",x5)\n",
        "\n",
        "z = 4.6\n",
        "z1 = z - 2.1\n",
        "z2 = z/2\n",
        "z3 = z//3\n",
        "z4 = z ** 3\n",
        "z5 = z4 ** 0.7\n",
        "z6 = pow(z,3)\n",
        "z7 = round(z)\n",
        "z8 = int(z)\n",
        "\n",
        "print(z,\",\",z1,\",\",z2,\",\",z3,\",\",z4)\n",
        "print(z5,\",\",z6,\",\",z7,\",\",z8)\n"
      ],
      "metadata": {
        "colab": {
          "base_uri": "https://localhost:8080/"
        },
        "id": "2MPAbpAUT0OB",
        "outputId": "780bb048-12ea-4f68-a4a3-dd3822d33e09"
      },
      "execution_count": null,
      "outputs": [
        {
          "output_type": "stream",
          "name": "stdout",
          "text": [
            "14 , 5 , 4 , 7 , 14 , 4\n",
            "4.6 , 2.4999999999999996 , 2.3 , 1.0 , 97.33599999999998\n",
            "24.64855399578878 , 97.33599999999998 , 5 , 4\n"
          ]
        }
      ]
    },
    {
      "cell_type": "code",
      "source": [
        "#The math module offers the following functions for integers and floating point numbers.\n",
        "\n",
        "import math\n",
        "\n",
        "x = 5\n",
        "print(math.sqrt(x))\n",
        "print(math.pow(x,3))\n",
        "print(math.exp(x))\n",
        "print(math.log(x,2))\n",
        "print(math.fabs(-4))\n",
        "print(math.factorial(x))\n",
        "\n",
        "z = 0.6\n",
        "print(math.ceil(z))\n",
        "print(math.floor(z))\n",
        "print(math.trunc(z))\n",
        "\n",
        "z = 3*math.pi\n",
        "print(math.sin(z))\n",
        "print(math.tanh(z))\n",
        "\n",
        "x = math.inf\n",
        "print(math.isinf(x))"
      ],
      "metadata": {
        "colab": {
          "base_uri": "https://localhost:8080/"
        },
        "id": "rKGibJzdXY6U",
        "outputId": "52e49062-ddfa-4e7e-f275-cfea2ffcb5cb"
      },
      "execution_count": null,
      "outputs": [
        {
          "output_type": "stream",
          "name": "stdout",
          "text": [
            "2.23606797749979\n",
            "125.0\n",
            "148.4131591025766\n",
            "2.321928094887362\n",
            "4.0\n",
            "120\n",
            "1\n",
            "0\n",
            "0\n",
            "3.6739403974420594e-16\n",
            "0.9999999869751758\n",
            "True\n"
          ]
        }
      ]
    },
    {
      "cell_type": "code",
      "source": [
        "#The logical operations that are available for booleans include the following.\n",
        "\n",
        "y1 = True\n",
        "y2 = False\n",
        "\n",
        "print(y1 and y2)\n",
        "print(y1 or y2)\n",
        "print(y1 and not y2)"
      ],
      "metadata": {
        "colab": {
          "base_uri": "https://localhost:8080/"
        },
        "id": "BtamXrcUa9iL",
        "outputId": "42488c8f-8c30-492f-acdd-baa18c25b58b"
      },
      "execution_count": null,
      "outputs": [
        {
          "output_type": "stream",
          "name": "stdout",
          "text": [
            "False\n",
            "True\n",
            "True\n"
          ]
        }
      ]
    },
    {
      "cell_type": "code",
      "source": [
        "#The following are a few string manipulation operations and functions.\n",
        "\n",
        "s1 = \"That\"\n",
        "\n",
        "print(s1[1:])\n",
        "print(len(s1))\n",
        "print(\"Lenght of string is \"+ str(len(s1)))\n",
        "print(s1.upper())\n",
        "print(s1.lower())\n",
        "\n",
        "s2 = \"This is a house\"\n",
        "words = s2.split(' ')\n",
        "print(words[0])\n",
        "print(s2.replace('a','another'))\n",
        "print(s2.replace('is','at'))\n",
        "s2\n",
        "print(s1 in s2)\n",
        "\n",
        "print(s1 == 'That')\n",
        "print(s1 < 'This')\n",
        "print(s2 + 'too')\n",
        "print((s1 + \"\")* 2)"
      ],
      "metadata": {
        "colab": {
          "base_uri": "https://localhost:8080/"
        },
        "id": "k61ibxJ3bxIv",
        "outputId": "6499297f-0de1-445d-8e88-42df50f0acce"
      },
      "execution_count": null,
      "outputs": [
        {
          "output_type": "stream",
          "name": "stdout",
          "text": [
            "hat\n",
            "4\n",
            "Lenght of string is 4\n",
            "THAT\n",
            "that\n",
            "This\n",
            "This is another house\n",
            "That at a house\n",
            "False\n",
            "True\n",
            "True\n",
            "This is a housetoo\n",
            "ThatThat\n"
          ]
        }
      ]
    },
    {
      "cell_type": "markdown",
      "source": [
        "###Compound Data Types"
      ],
      "metadata": {
        "id": "6dpMSoSBH3YA"
      }
    },
    {
      "cell_type": "code",
      "source": [
        "#The following examples show how to create and manipulate a list object\n",
        "\n",
        "intlist = [2, 4, 6, 8, 10]\n",
        "print(type(intlist))\n",
        "print(intlist)\n",
        "intlist2 = list(range(1,10,2))\n",
        "print(intlist2)\n",
        "\n",
        "print(intlist[2])\n",
        "print(intlist[:2])\n",
        "print(intlist[2:])\n",
        "print(len(intlist))\n",
        "print(sum(intlist))\n",
        "\n",
        "intlist.append(12)\n",
        "print(intlist)\n",
        "print(intlist.pop())\n",
        "print(intlist)\n",
        "\n",
        "print(intlist + [12,14,16])\n",
        "print(intlist * 2)\n",
        "intlist.insert(1,3)\n",
        "print(intlist)\n",
        "intlist.sort(reverse=True)\n",
        "print(intlist)"
      ],
      "metadata": {
        "colab": {
          "base_uri": "https://localhost:8080/"
        },
        "id": "u89RoPXzH5-2",
        "outputId": "a7bf819d-86ac-4b71-dec8-cafb9c42b71d"
      },
      "execution_count": null,
      "outputs": [
        {
          "output_type": "stream",
          "name": "stdout",
          "text": [
            "<class 'list'>\n",
            "[2, 4, 6, 8, 10]\n",
            "[1, 3, 5, 7, 9]\n",
            "6\n",
            "[2, 4]\n",
            "[6, 8, 10]\n",
            "5\n",
            "30\n",
            "[2, 4, 6, 8, 10, 12]\n",
            "12\n",
            "[2, 4, 6, 8, 10]\n",
            "[2, 4, 6, 8, 10, 12, 14, 16]\n",
            "[2, 4, 6, 8, 10, 2, 4, 6, 8, 10]\n",
            "[2, 3, 4, 6, 8, 10]\n",
            "[10, 8, 6, 4, 3, 2]\n"
          ]
        }
      ]
    },
    {
      "cell_type": "code",
      "source": [
        "mylist = ['this', 'is', 'a', 'list']\n",
        "print(mylist)\n",
        "print(type(mylist))\n",
        "\n",
        "print(\"list\" in mylist)\n",
        "print(mylist[2])\n",
        "print(mylist[:2])\n",
        "print(mylist[2:])\n",
        "mylist.append(\"too\")\n",
        "\n",
        "seperator  = \" \"\n",
        "print(seperator.join(mylist))\n",
        "mylist.remove(\"is\")\n",
        "print(mylist)"
      ],
      "metadata": {
        "colab": {
          "base_uri": "https://localhost:8080/"
        },
        "id": "XEKMz1qGJdOH",
        "outputId": "dfe3e7ac-2960-44b6-c39e-b0103dc35f42"
      },
      "execution_count": null,
      "outputs": [
        {
          "output_type": "stream",
          "name": "stdout",
          "text": [
            "['this', 'is', 'a', 'list']\n",
            "<class 'list'>\n",
            "True\n",
            "a\n",
            "['this', 'is']\n",
            "['a', 'list']\n",
            "this is a list too\n",
            "['this', 'a', 'list', 'too']\n"
          ]
        }
      ]
    },
    {
      "cell_type": "code",
      "source": [
        "#The examples below demonstrate how to construct and work with a dictionary object.\n",
        "\n",
        "ab1 = {}\n",
        "ab1['AZ'] = \"Arizona\"\n",
        "ab1['PH'] = \"Phoenix\"\n",
        "ab1['CA'] = \"California\"\n",
        "ab1['LS'] = \"LosAngeles\"\n",
        "\n",
        "print(ab1)\n",
        "print(ab1.keys())\n",
        "print(ab1.values())\n",
        "print(len(ab1))\n",
        "\n",
        "print(ab1.get('AZ'))\n",
        "print(\"FL\" in ab1)\n",
        "print(\"CA\" in ab1)\n",
        "\n",
        "keys = ['apples', 'oranges', 'bananas', 'cherries']\n",
        "values = [3, 4, 2, 10]\n",
        "fruits = dict(zip(keys, values))\n",
        "print(fruits)\n",
        "print(sorted(fruits))\n",
        "\n",
        "from operator import itemgetter\n",
        "print(sorted(fruits.items(), key=itemgetter(0)))\n",
        "print(sorted(fruits.items(), key = itemgetter(1)))\n"
      ],
      "metadata": {
        "colab": {
          "base_uri": "https://localhost:8080/"
        },
        "id": "rSUVR-RkKIg_",
        "outputId": "19c7d847-db4d-4645-bdc5-dc6ee5492605"
      },
      "execution_count": null,
      "outputs": [
        {
          "output_type": "stream",
          "name": "stdout",
          "text": [
            "{'AZ': 'Arizona', 'PH': 'Phoenix', 'CA': 'California', 'LS': 'LosAngeles'}\n",
            "dict_keys(['AZ', 'PH', 'CA', 'LS'])\n",
            "dict_values(['Arizona', 'Phoenix', 'California', 'LosAngeles'])\n",
            "4\n",
            "Arizona\n",
            "False\n",
            "True\n",
            "{'apples': 3, 'oranges': 4, 'bananas': 2, 'cherries': 10}\n",
            "['apples', 'bananas', 'cherries', 'oranges']\n",
            "[('apples', 3), ('bananas', 2), ('cherries', 10), ('oranges', 4)]\n",
            "[('bananas', 2), ('apples', 3), ('oranges', 4), ('cherries', 10)]\n"
          ]
        }
      ]
    },
    {
      "cell_type": "code",
      "source": [
        "#The creation and handling of a tuple object are demonstrated in the examples below.\n",
        "#A tuple object is immutable, compared to a list, meaning that it cannot be changed after creation.\n",
        "\n",
        "TCtuple = ('TC', 'Tucson', 'Downtown')\n",
        "CAtuple = ('CA', 'California', 'Sacramento')\n",
        "TXtuple = ('TX', 'Texas', 'Austin')\n",
        "\n",
        "print(TCtuple)\n",
        "print(TCtuple[1:])\n",
        "\n",
        "states = [TCtuple, CAtuple, TXtuple]\n",
        "print(states)\n",
        "print(states[2])\n",
        "print(states[2][:])\n",
        "print(states[2][1:])\n",
        "\n",
        "states.sort(key = lambda state: state[2])\n",
        "print(states)"
      ],
      "metadata": {
        "colab": {
          "base_uri": "https://localhost:8080/"
        },
        "id": "nw4wnSAFzDFF",
        "outputId": "6ebc7904-190e-4b5a-fa64-b38eb611d77d"
      },
      "execution_count": null,
      "outputs": [
        {
          "output_type": "stream",
          "name": "stdout",
          "text": [
            "('TC', 'Tucson', 'Downtown')\n",
            "('Tucson', 'Downtown')\n",
            "[('TC', 'Tucson', 'Downtown'), ('CA', 'California', 'Sacramento'), ('TX', 'Texas', 'Austin')]\n",
            "('TX', 'Texas', 'Austin')\n",
            "('TX', 'Texas', 'Austin')\n",
            "('Texas', 'Austin')\n",
            "[('TX', 'Texas', 'Austin'), ('TC', 'Tucson', 'Downtown'), ('CA', 'California', 'Sacramento')]\n"
          ]
        }
      ]
    },
    {
      "cell_type": "markdown",
      "source": [
        "###Control Flow Statements"
      ],
      "metadata": {
        "id": "IuI_2zuF1A6Z"
      }
    },
    {
      "cell_type": "code",
      "source": [
        "#The if, for, and while statements are control flow statements in Python, much like in other programming languages.\n",
        "#Below are some examples of how to utilize these statements.\n",
        "\n",
        "x = 9\n",
        "\n",
        "if x % 2 == 0:\n",
        "  print(\"X = \", x, \", is even\")\n",
        "else:\n",
        "  print(\"X = \", x, \", is odd\")\n",
        "\n",
        "if x > 0:\n",
        "  print(\"X = \", x, \", is positive\")\n",
        "elif x < 0:\n",
        "  print(\"X = \", x, \", is negative\")\n",
        "else:\n",
        "  print(\"X = \", x, \", is neither positive nor negative\")"
      ],
      "metadata": {
        "colab": {
          "base_uri": "https://localhost:8080/"
        },
        "id": "TVCA2WqJ1Fd4",
        "outputId": "cd618119-db33-4d45-ef77-0b3ddf1bcfdc"
      },
      "execution_count": null,
      "outputs": [
        {
          "output_type": "stream",
          "name": "stdout",
          "text": [
            "X =  9 , is odd\n",
            "X =  9 , is positive\n"
          ]
        }
      ]
    },
    {
      "cell_type": "code",
      "source": [
        "# using for loop with a list\n",
        "\n",
        "mlist = ['this', 'is', 'a', 'list']\n",
        "for word in mlist:\n",
        "  print(word.replace(\"is\", \"at\"))\n",
        "\n",
        "mlist2 = [len(word) for word in mlist]\n",
        "print(mlist2)\n",
        "\n",
        "\n",
        "# using for loop with list of tuples\n",
        "\n",
        "states = [('AZ', 'Arizona', 'Phoenix'),('CA', 'California', 'Sacramento'),\n",
        "          ('TX', 'Texas', 'Austin')]\n",
        "sorted_capitals = [state[2] for state in states]\n",
        "sorted_capitals.sort()\n",
        "print(sorted_capitals)\n",
        "\n",
        "\n",
        "# using for loop with dictionary\n",
        "\n",
        "fruits = {'grapes': 7, 'peach': 2, 'coconut': 3, 'cherries': 8}\n",
        "fruitnames = [k for (k,v) in fruits.items()]\n",
        "print(fruitnames)"
      ],
      "metadata": {
        "colab": {
          "base_uri": "https://localhost:8080/"
        },
        "id": "a15z8NTj27-E",
        "outputId": "7af3e7f4-f71d-4b06-a04a-3712e13670c6"
      },
      "execution_count": null,
      "outputs": [
        {
          "output_type": "stream",
          "name": "stdout",
          "text": [
            "that\n",
            "at\n",
            "a\n",
            "latt\n",
            "[4, 2, 1, 4]\n",
            "['Austin', 'Phoenix', 'Sacramento']\n",
            "['grapes', 'peach', 'coconut', 'cherries']\n"
          ]
        }
      ]
    },
    {
      "cell_type": "code",
      "source": [
        "# using while loop\n",
        "\n",
        "mlist = list(range(-10,10))\n",
        "print(mlist)\n",
        "\n",
        "i = 0\n",
        "while(mlist[i] < 0):\n",
        "  i = i+1\n",
        "\n",
        "print(\"first non-negative number: \", mlist[i])"
      ],
      "metadata": {
        "colab": {
          "base_uri": "https://localhost:8080/"
        },
        "id": "xJ_r5pRd5Z0l",
        "outputId": "a2cb34d3-41fc-4968-a08c-56cfecec5381"
      },
      "execution_count": null,
      "outputs": [
        {
          "output_type": "stream",
          "name": "stdout",
          "text": [
            "[-10, -9, -8, -7, -6, -5, -4, -3, -2, -1, 0, 1, 2, 3, 4, 5, 6, 7, 8, 9]\n",
            "first non-negative number:  0\n"
          ]
        }
      ]
    },
    {
      "cell_type": "markdown",
      "source": [
        "###User-Defined Functions"
      ],
      "metadata": {
        "id": "YF4bjheoHemE"
      }
    },
    {
      "cell_type": "code",
      "source": [
        "#In Python, you may write your own named or nameless functions.\n",
        "#The lambda keyword is used to define unnamed functions, as seen in the preceding example for sorting a list of tuples.\n",
        "\n",
        "myfun = lambda x: 2**x**3 - 3**x**2\n",
        "\n",
        "print(myfun(2))"
      ],
      "metadata": {
        "colab": {
          "base_uri": "https://localhost:8080/"
        },
        "id": "YdjElj9qHhYn",
        "outputId": "f2fab147-8f8c-4863-85cc-789d54a2c99a"
      },
      "execution_count": null,
      "outputs": [
        {
          "output_type": "stream",
          "name": "stdout",
          "text": [
            "175\n"
          ]
        }
      ]
    },
    {
      "cell_type": "code",
      "source": [
        "import math\n",
        "\n",
        "# The following function will discard missing values from a list\n",
        "def discar(inlist, sortFlag=False):    # default value for sortFlag is False\n",
        "    outlist = []\n",
        "    for item in inlist:\n",
        "        if not math.isnan(item):\n",
        "            outlist.append(item)\n",
        "\n",
        "    if sortFlag:\n",
        "        outlist.sort()\n",
        "    return outlist\n",
        "\n",
        "mylist = [11, math.nan, 12, -7, 5, math.nan, 61]\n",
        "\n",
        "print(discar(mylist,True))"
      ],
      "metadata": {
        "colab": {
          "base_uri": "https://localhost:8080/"
        },
        "id": "EtK0WQKyISox",
        "outputId": "b18255a5-b3db-494d-a2c1-110cbf6019f1"
      },
      "execution_count": null,
      "outputs": [
        {
          "output_type": "stream",
          "name": "stdout",
          "text": [
            "[-7, 5, 11, 12, 61]\n"
          ]
        }
      ]
    },
    {
      "cell_type": "markdown",
      "source": [
        "###File I/O"
      ],
      "metadata": {
        "id": "NwVDh1WgIikz"
      }
    },
    {
      "cell_type": "code",
      "source": [
        "#You can read and write data from a list or other objects to a file.\n",
        "\n",
        "states = [('AZ', 'Arizona', 'Phoenix'),('CA', 'California', 'Sacramento'),\n",
        "          ('TX', 'Texas', 'Austin'), ('MN', 'Minnesota', 'St Paul')]\n",
        "\n",
        "with open('states.txt', 'w') as f:\n",
        "    f.write('\\n'.join('%s,%s,%s' % state for state in states))\n",
        "\n",
        "with open('states.txt', 'r') as f:\n",
        "    for line in f:\n",
        "        fields = line.split(sep=',')    # split each line into its respective fields\n",
        "        print('State=',fields[1],'(',fields[0],')','Capital:', fields[2])"
      ],
      "metadata": {
        "colab": {
          "base_uri": "https://localhost:8080/"
        },
        "id": "UWsQ0Vy-IiUI",
        "outputId": "76efbd6c-82af-4b1f-87da-020a7f3a4f12"
      },
      "execution_count": null,
      "outputs": [
        {
          "output_type": "stream",
          "name": "stdout",
          "text": [
            "State= Arizona ( AZ ) Capital: Phoenix\n",
            "\n",
            "State= California ( CA ) Capital: Sacramento\n",
            "\n",
            "State= Texas ( TX ) Capital: Austin\n",
            "\n",
            "State= Minnesota ( MN ) Capital: St Paul\n"
          ]
        }
      ]
    }
  ]
}